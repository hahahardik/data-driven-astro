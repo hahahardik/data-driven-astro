{
 "cells": [
  {
   "cell_type": "markdown",
   "id": "698d2bc2",
   "metadata": {},
   "source": [
    "# Coursera\n",
    "\n",
    "## Data-Driven Astronomy"
   ]
  },
  {
   "cell_type": "markdown",
   "id": "bb1fe800",
   "metadata": {},
   "source": [
    "### 1. Calculating Mean of a Image Stack (.fits files)"
   ]
  },
  {
   "cell_type": "code",
   "execution_count": 1,
   "id": "13201aff",
   "metadata": {},
   "outputs": [],
   "source": [
    "# Required libraries\n",
    "\n",
    "import numpy as np\n",
    "from astropy.io import fits\n",
    "import matplotlib.pyplot as plt"
   ]
  },
  {
   "cell_type": "code",
   "execution_count": 2,
   "id": "9e41641e",
   "metadata": {},
   "outputs": [
    {
     "name": "stdout",
     "output_type": "stream",
     "text": [
      "23.96 5 22.585358088814974\n"
     ]
    }
   ],
   "source": [
    "# Using Numpy to get back basic stats\n",
    "\n",
    "fluxes = np.array([23.3, 42.1, 2.0, -3.2, 55.6])\n",
    "mean = np.mean(fluxes) # mean\n",
    "size = np.size(fluxes) # length of array\n",
    "std_dev = np.std(fluxes)  # standard deviation\n",
    "print(mean, size, std_dev)"
   ]
  },
  {
   "cell_type": "code",
   "execution_count": 3,
   "id": "2c748aaa",
   "metadata": {},
   "outputs": [
    {
     "name": "stdout",
     "output_type": "stream",
     "text": [
      "[[ 7.98631 16.82952 19.65165]\n",
      " [ 7.1446  10.41674  3.81853]\n",
      " [ 7.48549 14.61958  8.87193]\n",
      " [ 8.66521 14.14244 10.10248]\n",
      " [14.80968 12.82048 13.41792]]\n"
     ]
    }
   ],
   "source": [
    "# Reading data from .csv files\n",
    "\n",
    "# np.loadtxt saves the data in numpy array formats\n",
    "\n",
    "data = np.loadtxt('data1.csv', delimiter=',')\n",
    "print(data)"
   ]
  },
  {
   "cell_type": "code",
   "execution_count": 4,
   "id": "65808dde",
   "metadata": {},
   "outputs": [
    {
     "name": "stdout",
     "output_type": "stream",
     "text": [
      "11.4 10.4\n"
     ]
    }
   ],
   "source": [
    "# Calculating the mean and median of array and rounding it to one decimal place\n",
    "\n",
    "mean = np.mean(data)\n",
    "median = np.median(data)\n",
    "  \n",
    "print(np.round(mean,1), np.round(median,1))"
   ]
  },
  {
   "cell_type": "code",
   "execution_count": 5,
   "id": "28fb1589",
   "metadata": {},
   "outputs": [
    {
     "name": "stdout",
     "output_type": "stream",
     "text": [
      "[ 7.98631 16.82952 19.65165]\n",
      "[16.82952 10.41674 14.61958 14.14244 12.82048]\n"
     ]
    }
   ],
   "source": [
    "# Accessing the array\n",
    "\n",
    "# Print first row of data:\n",
    "print(data[0,:])\n",
    "\n",
    "# Print second column of data:\n",
    "print(data[:,1])"
   ]
  },
  {
   "cell_type": "code",
   "execution_count": 6,
   "id": "c919f85f",
   "metadata": {},
   "outputs": [],
   "source": [
    "# Function for calculating the mean of several data files\n",
    "\n",
    "def mean_datasets(files):\n",
    "    n = len(files)\n",
    "    \n",
    "    if n > 0 :\n",
    "        data = np.loadtxt(files[0], delimiter = ',')\n",
    "        \n",
    "        for i in range(1,n):\n",
    "            data += np.loadtxt(files[i], delimiter = ',')\n",
    "    \n",
    "        data_mean = data / n\n",
    "  \n",
    "    return np.round(data_mean, 1)"
   ]
  },
  {
   "cell_type": "code",
   "execution_count": 7,
   "id": "31e4dedf",
   "metadata": {},
   "outputs": [
    {
     "name": "stdout",
     "output_type": "stream",
     "text": [
      "[[11.   9.3 13.4]\n",
      " [11.8  8.8 11.8]\n",
      " [11.7 10.8 13. ]\n",
      " [13.4  8.9  8.3]\n",
      " [16.9  4.3 11.2]]\n"
     ]
    }
   ],
   "source": [
    "files = ['data1.csv', 'data2.csv', 'data3.csv']\n",
    "x = mean_datasets(files)\n",
    "print(x)"
   ]
  },
  {
   "cell_type": "code",
   "execution_count": 8,
   "id": "ecad0132",
   "metadata": {},
   "outputs": [
    {
     "name": "stdout",
     "output_type": "stream",
     "text": [
      "Filename: image0.fits\n",
      "No.    Name      Ver    Type      Cards   Dimensions   Format\n",
      "  0  XY72.hdr      1 PrimaryHDU     658   (2423, 2434)   int16 (rescales to uint16)   \n"
     ]
    }
   ],
   "source": [
    "# FITS (Flexible Image Transport System)\n",
    "# FITS files have headers which store metadata about the image. The following code extracts the header info from the fits file\n",
    "\n",
    "from astropy.io import fits\n",
    "hdulist = fits.open('image0.fits')\n",
    "hdulist.info()"
   ]
  },
  {
   "cell_type": "markdown",
   "id": "83595a36",
   "metadata": {},
   "source": [
    "Opening a FITS file in Astropy returns a HDU (Header/Data Unit) list. Each HDU stores headers and (optionally) image data.\n",
    "\n",
    "The header contains metadata about the HDU object, e.g. its dimensions and data type. Every HDU can contain image data. The first HDU is called the primary HDU.\n",
    "\n",
    "If we want to access individual HDUs, we can index the HDU list object returned by fits.open. The image data can be accessed using the data attribute:"
   ]
  },
  {
   "cell_type": "code",
   "execution_count": 9,
   "id": "7f68aae5",
   "metadata": {},
   "outputs": [
    {
     "name": "stdout",
     "output_type": "stream",
     "text": [
      "(2434, 2423)\n"
     ]
    }
   ],
   "source": [
    "from astropy.io import fits\n",
    "\n",
    "hdulist = fits.open('image0.fits')\n",
    "data = hdulist[0].data\n",
    "\n",
    "# data.shape gives the dimensions of the image in the primary HDU\n",
    "print(data.shape)"
   ]
  },
  {
   "cell_type": "code",
   "execution_count": 10,
   "id": "197695b2",
   "metadata": {},
   "outputs": [
    {
     "data": {
      "image/png": "[encoded data removed]",
      "text/plain": [
       "<Figure size 640x480 with 2 Axes>"
      ]
     },
     "metadata": {},
     "output_type": "display_data"
    }
   ],
   "source": [
    "from astropy.io import fits\n",
    "import matplotlib.pyplot as plt\n",
    "\n",
    "hdulist = fits.open('image0.fits')\n",
    "data = hdulist[0].data\n",
    "\n",
    "# Plot the 2D array\n",
    "plt.imshow(data, cmap=plt.cm.viridis)\n",
    "plt.xlabel('x-pixels (RA)')\n",
    "plt.ylabel('y-pixels (Dec)')\n",
    "plt.colorbar()\n",
    "plt.show()"
   ]
  },
  {
   "cell_type": "code",
   "execution_count": 11,
   "id": "de60aa3b",
   "metadata": {},
   "outputs": [],
   "source": [
    "# Function to find the brightest pixel in the image data\n",
    "\n",
    "from astropy.io import fits\n",
    "import numpy as np\n",
    "\n",
    "def load_fits(file):\n",
    "    hdulist = fits.open(file) # opens fits file\n",
    "    data = hdulist[0].data # accessing datafrom fits file\n",
    "    \n",
    "    arg_max = np.argmax(data) # searches for the largest value in the array and returns its position\n",
    "    max_pos = np.unravel_index(arg_max, data.shape) # unravells the 1D result of argmax into x-y coordinates\n",
    "\n",
    "    return max_pos"
   ]
  },
  {
   "cell_type": "code",
   "execution_count": 12,
   "id": "682ee416",
   "metadata": {},
   "outputs": [
    {
     "data": {
      "text/plain": [
       "(776, 955)"
      ]
     },
     "execution_count": 12,
     "metadata": {},
     "output_type": "execute_result"
    }
   ],
   "source": [
    "load_fits('image0.fits')"
   ]
  },
  {
   "cell_type": "code",
   "execution_count": 13,
   "id": "89c44eeb",
   "metadata": {},
   "outputs": [],
   "source": [
    "# Function to calc the mean of fits files\n",
    "\n",
    "\n",
    "from astropy.io import fits\n",
    "import numpy as np\n",
    "\n",
    "def mean_fits(files):\n",
    "   \n",
    "  n = len(files)\n",
    "  \n",
    "  if n > 0:\n",
    "    hdulist = fits.open(files[0])\n",
    "    data = hdulist[0].data\n",
    "    hdulist.close() # By calling hdulist.close() we free up the memory this file has taken up while we were working with it.\n",
    "    \n",
    "    for i in range(1,n):\n",
    "        hdulist = fits.open(files[i])\n",
    "        data += hdulist[0].data\n",
    "        hdulist.close()\n",
    "  \n",
    "    mean = data / n\n",
    "    return mean"
   ]
  },
  {
   "cell_type": "code",
   "execution_count": 14,
   "id": "3445922c",
   "metadata": {},
   "outputs": [
    {
     "data": {
      "text/plain": [
       "array([[161.5 , 161.  , 160.5 , ..., 160.5 , 160.5 , 160.5 ],\n",
       "       [160.75, 160.25, 160.  , ..., 161.  , 160.75, 160.25],\n",
       "       [160.75, 160.  , 160.  , ..., 160.  , 160.75, 161.  ],\n",
       "       ...,\n",
       "       [160.75, 160.25, 160.25, ..., 160.75, 161.  , 161.  ],\n",
       "       [161.  , 160.5 , 160.5 , ..., 160.75, 161.25, 160.5 ],\n",
       "       [160.5 , 160.  , 160.5 , ..., 160.5 , 160.25, 161.  ]])"
      ]
     },
     "execution_count": 14,
     "metadata": {},
     "output_type": "execute_result"
    }
   ],
   "source": [
    "fits_files = ['image0.fits', 'image1.fits', 'image2.fits', 'image3.fits']\n",
    "mean_fits(fits_files) # returns an array of mean values for all x-y coord"
   ]
  },
  {
   "cell_type": "code",
   "execution_count": 15,
   "id": "e7af661a",
   "metadata": {},
   "outputs": [
    {
     "data": {
      "text/plain": [
       "141.0"
      ]
     },
     "execution_count": 15,
     "metadata": {},
     "output_type": "execute_result"
    }
   ],
   "source": [
    "mean_fits(fits_files)[1000,234] # returns mean values at the given coord"
   ]
  },
  {
   "cell_type": "code",
   "execution_count": null,
   "id": "a3246eb6",
   "metadata": {},
   "outputs": [],
   "source": []
  }
 ],
 "metadata": {
  "kernelspec": {
   "display_name": "Python 3",
   "language": "python",
   "name": "python3"
  },
  "language_info": {
   "codemirror_mode": {
    "name": "ipython",
    "version": 3
   },
   "file_extension": ".py",
   "mimetype": "text/x-python",
   "name": "python",
   "nbconvert_exporter": "python",
   "pygments_lexer": "ipython3",
   "version": "3.8.8"
  }
 },
 "nbformat": 4,
 "nbformat_minor": 5
}
